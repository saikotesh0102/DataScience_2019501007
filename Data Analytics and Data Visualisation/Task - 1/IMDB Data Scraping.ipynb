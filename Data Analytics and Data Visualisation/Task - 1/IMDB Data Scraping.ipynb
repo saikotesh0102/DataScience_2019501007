{
 "cells": [
  {
   "cell_type": "code",
   "execution_count": 2,
   "metadata": {},
   "outputs": [],
   "source": [
    "import requests\n",
    "import urllib.request\n",
    "import re, csv, lxml, gzip\n",
    "import pandas as pd\n",
    "from bs4 import BeautifulSoup"
   ]
  },
  {
   "cell_type": "code",
   "execution_count": 3,
   "metadata": {},
   "outputs": [],
   "source": [
    "source_url = \"https://www.imdb.com/interfaces/\"\n",
    "# redirect_url = \"https://datasets.imdbws.com/\"\n",
    "# ratings_url = \"https://datasets.imdbws.com/title.ratings.tsv.gz\"\n",
    "web = urllib.request.urlopen(source_url)\n",
    "web_html = web.read()\n",
    "temp_links = re.findall(r\"\"\"<*a\\s*href=[\"'](.*?)[\"']\"\"\", web_html.decode(\"UTF-8\"))"
   ]
  },
  {
   "cell_type": "code",
   "execution_count": 4,
   "metadata": {
    "scrolled": true
   },
   "outputs": [
    {
     "name": "stdout",
     "output_type": "stream",
     "text": [
      "['/?ref_=nv_home', 'https://help.imdb.com/article/imdb/general-information/can-i-use-imdb-data-in-my-software/G5JTRESSHJBBHTGX', 'http://www.imdb.com/Copyright', '/offsite/?page-action=offsite-imdbws&token=BCYitIHknNOABs6YRMoDIheux6bzFBwE0KCTYzxwEbllmfj9R1R9VDP4HcTuXV9HYgMwL_DfhG3M%0D%0Aibd3TT7R5Vo2kuPaZaWGDWbuk8GvFsEFu-S8IeDaQh2UPU_kCGIVP6q1FJI6VfgBMaRHqX6JA4sd%0D%0A2ejqaIs8wWga3EgviMofHdmM2UF5dDcpADuCB74K0T5rnlWAy_I53fSho8FNXPxKTQ%0D%0A', '/whitelist-offsite?url=https%3A%2F%2Fslyb.app.link%2FSKdyQ6A449&amp;page-action=ft-gettheapp&amp;ref=ft_apps', '?mode=desktop&amp;ref_=m_ft_dsk', 'https://help.imdb.com/imdb?ref_=ft_hlp', 'https://help.imdb.com/article/imdb/general-information/imdb-site-index/GNCX7BHNSPBTFALQ?ref_=ft_si#so', 'https://pro.imdb.com?ref_=ft_pro&amp;rf=cons_tf_pro', 'https://www.boxofficemojo.com', 'https://developer.imdb.com/?ref=ft_ds', 'https://www.imdb.com/pressroom/?ref_=ft_pr', 'https://advertising.amazon.com/resources/ad-specs/imdb/?ref_=a20m_us_spcs_imdb', 'https://www.amazon.jobs/en/teams/imdb?ref_=ft_jb', '/conditions?ref_=ft_cou', '/privacy?ref_=ft_pvc', '/whitelist-offsite?url=https%3A%2F%2Fwww.amazon.com%2Fb%2F%3F%26node%3D5160028011%26ref_%3Dft_iba&amp;page-action=ft-iba&amp;ref=ft_iba']\n"
     ]
    }
   ],
   "source": [
    "print(temp_links)"
   ]
  },
  {
   "cell_type": "code",
   "execution_count": 5,
   "metadata": {},
   "outputs": [
    {
     "name": "stdout",
     "output_type": "stream",
     "text": [
      "['http://www.imdb.com/interfaces/', 'https://datasets.imdbws.com/name.basics.tsv.gz', 'https://datasets.imdbws.com/title.akas.tsv.gz', 'https://datasets.imdbws.com/title.basics.tsv.gz', 'https://datasets.imdbws.com/title.crew.tsv.gz', 'https://datasets.imdbws.com/title.episode.tsv.gz', 'https://datasets.imdbws.com/title.principals.tsv.gz', 'https://datasets.imdbws.com/title.ratings.tsv.gz']\n"
     ]
    }
   ],
   "source": [
    "redirect_url = \"https://www.imdb.com\" + temp_links[3]\n",
    "html = urllib.request.urlopen(redirect_url)\n",
    "soup = BeautifulSoup(html.read(), 'lxml')\n",
    "links = []\n",
    "for link in soup.find_all('a'):\n",
    "    links.append(link.get('href'))\n",
    "print(links)"
   ]
  },
  {
   "cell_type": "code",
   "execution_count": 6,
   "metadata": {},
   "outputs": [
    {
     "name": "stdout",
     "output_type": "stream",
     "text": [
      "      tconst  averageRating  numVotes\n",
      "0  tt0000001            5.6      1668\n",
      "1  tt0000002            6.1       207\n",
      "2  tt0000003            6.5      1389\n",
      "3  tt0000004            6.2       123\n",
      "4  tt0000005            6.2      2177\n"
     ]
    }
   ],
   "source": [
    "ratings_url = links[-1]\n",
    "data = requests.get(ratings_url, allow_redirects = True)\n",
    "# print(data)\n",
    "path = 'D:/Study/MSIT/2nd Year/DataScience_2019501007/Data Analytics and Data Visualisation/Task - 1/data.tsv'\n",
    "tsv_file = open(path, 'wb').write(data.content)\n",
    "with open(path, 'rb') as fd:\n",
    "    gzip_fd = gzip.GzipFile(fileobj = fd)\n",
    "    read_tsv = pd.read_csv(gzip_fd, sep = \"\\t\", header = 0)\n",
    "    \n",
    "print(read_tsv.head())"
   ]
  },
  {
   "cell_type": "code",
   "execution_count": 11,
   "metadata": {},
   "outputs": [
    {
     "name": "stdout",
     "output_type": "stream",
     "text": [
      "           tconst  averageRating  numVotes\n",
      "81753   tt0111161            9.3   2321677\n",
      "245899  tt0468569            9.0   2283662\n",
      "580156  tt1375666            8.8   2047100\n",
      "98017   tt0137523            8.8   1839001\n",
      "81537   tt0110912            8.9   1811040\n",
      "80664   tt0109830            8.8   1790735\n",
      "423198  tt0944947            9.3   1742902\n",
      "95940   tt0133093            8.7   1661435\n",
      "89523   tt0120737            8.8   1646094\n",
      "112813  tt0167260            8.9   1629598\n",
      "45683   tt0068646            9.2   1603570\n",
      "572992  tt1345836            8.4   1504762\n",
      "387224  tt0816692            8.6   1492000\n",
      "112814  tt0167261            8.7   1473219\n",
      "413352  tt0903747            9.5   1434864\n",
      "84305   tt0114369            8.6   1431031\n",
      "664586  tt1853728            8.4   1344306\n",
      "115232  tt0172495            8.5   1330437\n",
      "206241  tt0372784            8.2   1298543\n",
      "74973   tt0102926            8.6   1259198\n"
     ]
    }
   ],
   "source": [
    "# read_tsv.sort_values('averageRating', inplace = True)\n",
    "# print(read_tsv.tail(20))\n",
    "rating_8 = read_tsv[read_tsv['averageRating'] > 8.0]\n",
    "# print(rating_8.head())\n",
    "result = rating_8.sort_values('numVotes', ascending = False)\n",
    "print(result.head(20))"
   ]
  },
  {
   "cell_type": "code",
   "execution_count": null,
   "metadata": {},
   "outputs": [],
   "source": []
  }
 ],
 "metadata": {
  "kernelspec": {
   "display_name": "Python 3",
   "language": "python",
   "name": "python3"
  },
  "language_info": {
   "codemirror_mode": {
    "name": "ipython",
    "version": 3
   },
   "file_extension": ".py",
   "mimetype": "text/x-python",
   "name": "python",
   "nbconvert_exporter": "python",
   "pygments_lexer": "ipython3",
   "version": "3.8.5"
  }
 },
 "nbformat": 4,
 "nbformat_minor": 4
}
