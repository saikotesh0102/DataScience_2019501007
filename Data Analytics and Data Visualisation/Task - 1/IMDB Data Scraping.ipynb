{
 "cells": [
  {
   "cell_type": "code",
   "execution_count": 1,
   "metadata": {},
   "outputs": [],
   "source": [
    "import requests\n",
    "import urllib.request\n",
    "import re, csv, lxml, gzip, io\n",
    "import pandas as pd\n",
    "from bs4 import BeautifulSoup"
   ]
  },
  {
   "cell_type": "code",
   "execution_count": 2,
   "metadata": {},
   "outputs": [],
   "source": [
    "source_url = \"https://www.imdb.com/interfaces/\"\n",
    "# redirect_url = \"https://datasets.imdbws.com/\"\n",
    "# ratings_url = \"https://datasets.imdbws.com/title.ratings.tsv.gz\"\n",
    "web = urllib.request.urlopen(source_url)\n",
    "web_html = web.read()\n",
    "temp_links = re.findall(r\"\"\"<*a\\s*href=[\"'](.*?)[\"']\"\"\", web_html.decode(\"UTF-8\"))"
   ]
  },
  {
   "cell_type": "code",
   "execution_count": 3,
   "metadata": {
    "scrolled": true
   },
   "outputs": [
    {
     "name": "stdout",
     "output_type": "stream",
     "text": [
      "['/?ref_=nv_home', 'https://help.imdb.com/article/imdb/general-information/can-i-use-imdb-data-in-my-software/G5JTRESSHJBBHTGX', 'http://www.imdb.com/Copyright', '/offsite/?page-action=offsite-imdbws&token=BCYpn92daGxllhIZl8hyMWF1SNWWUnZTcHlVnzmajUnoNBzv-FHXg1yG694SHsBeEA0Z5aDXxPOd%0D%0AHfMg9WikAT2FwcjxAKuN63-G6dcvTIxfqpHORhdnQb3HceMOWasnzvhbwYYbnP4Qymgg1uyh6169%0D%0A2AIrSRUxYWmFxW-oSSyzBGrPQ5EQ1Jbdr0lvAmrtk3bUPkZEg6TBZMYF5s8gC8Nn9w%0D%0A', '/whitelist-offsite?url=https%3A%2F%2Fslyb.app.link%2FSKdyQ6A449&amp;page-action=ft-gettheapp&amp;ref=ft_apps', '?mode=desktop&amp;ref_=m_ft_dsk', 'https://help.imdb.com/imdb?ref_=ft_hlp', 'https://help.imdb.com/article/imdb/general-information/imdb-site-index/GNCX7BHNSPBTFALQ?ref_=ft_si#so', 'https://pro.imdb.com?ref_=ft_pro&amp;rf=cons_tf_pro', 'https://www.boxofficemojo.com', 'https://developer.imdb.com/?ref=ft_ds', 'https://www.imdb.com/pressroom/?ref_=ft_pr', 'https://advertising.amazon.com/resources/ad-specs/imdb/?ref_=a20m_us_spcs_imdb', 'https://www.amazon.jobs/en/teams/imdb?ref_=ft_jb', '/conditions?ref_=ft_cou', '/privacy?ref_=ft_pvc', '/whitelist-offsite?url=https%3A%2F%2Fwww.amazon.com%2Fb%2F%3F%26node%3D5160028011%26ref_%3Dft_iba&amp;page-action=ft-iba&amp;ref=ft_iba']\n"
     ]
    }
   ],
   "source": [
    "print(temp_links)"
   ]
  },
  {
   "cell_type": "code",
   "execution_count": 4,
   "metadata": {},
   "outputs": [
    {
     "name": "stdout",
     "output_type": "stream",
     "text": [
      "https://datasets.imdbws.com/name.basics.tsv.gz\n",
      "https://datasets.imdbws.com/title.akas.tsv.gz\n",
      "https://datasets.imdbws.com/title.basics.tsv.gz\n",
      "https://datasets.imdbws.com/title.crew.tsv.gz\n",
      "https://datasets.imdbws.com/title.episode.tsv.gz\n",
      "https://datasets.imdbws.com/title.principals.tsv.gz\n",
      "https://datasets.imdbws.com/title.ratings.tsv.gz\n",
      "['https://datasets.imdbws.com/name.basics.tsv.gz', 'https://datasets.imdbws.com/title.akas.tsv.gz', 'https://datasets.imdbws.com/title.basics.tsv.gz', 'https://datasets.imdbws.com/title.crew.tsv.gz', 'https://datasets.imdbws.com/title.episode.tsv.gz', 'https://datasets.imdbws.com/title.principals.tsv.gz', 'https://datasets.imdbws.com/title.ratings.tsv.gz']\n"
     ]
    }
   ],
   "source": [
    "redirect_url = \"https://www.imdb.com\" + temp_links[3]\n",
    "html = urllib.request.urlopen(redirect_url)\n",
    "soup = BeautifulSoup(html.read(), 'lxml')\n",
    "links = []\n",
    "for link in soup.find_all('a')[1:]:\n",
    "    links.append(link.get('href'))\n",
    "    print(link[\"href\"])\n",
    "print(links)"
   ]
  },
  {
   "cell_type": "code",
   "execution_count": null,
   "metadata": {},
   "outputs": [],
   "source": [
    "ratings_url = links\n",
    "path = 'D:/Study/MSIT/2nd Year/DataScience_2019501007/Data Analytics and Data Visualisation/Task - 1/'\n",
    "\n",
    "for each in links:\n",
    "    rand = each.split('/')[-1].split('.')[0:2]\n",
    "    file_name = '_'.join(rand)\n",
    "    temp_path = path + file_name + '.tsv'\n",
    "    response = urllib.request.urlopen(each)\n",
    "    compressed_file = io.BytesIO(response.read())\n",
    "    decompressed_file = gzip.GzipFile(fileobj = compressed_file)\n",
    "    with open(temp_path,\"wb\") as fd:\n",
    "        fd.write(decompressed_file.read())"
   ]
  }
 ],
 "metadata": {
  "kernelspec": {
   "display_name": "Python 3",
   "language": "python",
   "name": "python3"
  },
  "language_info": {
   "codemirror_mode": {
    "name": "ipython",
    "version": 3
   },
   "file_extension": ".py",
   "mimetype": "text/x-python",
   "name": "python",
   "nbconvert_exporter": "python",
   "pygments_lexer": "ipython3",
   "version": "3.8.5"
  }
 },
 "nbformat": 4,
 "nbformat_minor": 4
}
