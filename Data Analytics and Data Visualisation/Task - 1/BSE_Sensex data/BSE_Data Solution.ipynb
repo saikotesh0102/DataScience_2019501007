{
 "cells": [
  {
   "cell_type": "code",
   "execution_count": 1,
   "metadata": {},
   "outputs": [],
   "source": [
    "import pandas as pd\n",
    "import os\n",
    "import numpy as np\n",
    "from itertools import combinations\n",
    "from matplotlib import pyplot as plt"
   ]
  },
  {
   "cell_type": "markdown",
   "metadata": {},
   "source": [
    "# Identify the top 10 gainers (%) across groups over the last one month, 3 months, 6 months, one year, 2 years, 3 years and 5 years period."
   ]
  },
  {
   "cell_type": "code",
   "execution_count": 2,
   "metadata": {},
   "outputs": [],
   "source": [
    "data = {}\n",
    "for root,dirs,files in os.walk(os.curdir):\n",
    "    for file in files:\n",
    "        if file.endswith('.csv') and file.startswith(\"5\"):\n",
    "            name = os.path.splitext(file)[0]\n",
    "            df = pd.read_csv(file, thousands = \",\")\n",
    "            df[\"Date\"] = pd.to_datetime(df[\"Date\"])\n",
    "            df.sort_values(by=\"Date\", inplace = True)\n",
    "            \n",
    "            try :\n",
    "                start = df[\"Close\"].iloc[0]\n",
    "            except Exception as e:\n",
    "                start = df[\"Close Price\"].iloc[0]\n",
    "            \n",
    "            try :\n",
    "                end = df[\"Close\"].iloc[-1]\n",
    "            except Exception as e:\n",
    "                end = df[\"Close Price\"].iloc[-1]\n",
    "            gain = (end/start) - 1\n",
    "            data[name] = gain"
   ]
  },
  {
   "cell_type": "code",
   "execution_count": 3,
   "metadata": {},
   "outputs": [
    {
     "data": {
      "text/html": [
       "<div>\n",
       "<style scoped>\n",
       "    .dataframe tbody tr th:only-of-type {\n",
       "        vertical-align: middle;\n",
       "    }\n",
       "\n",
       "    .dataframe tbody tr th {\n",
       "        vertical-align: top;\n",
       "    }\n",
       "\n",
       "    .dataframe thead th {\n",
       "        text-align: right;\n",
       "    }\n",
       "</style>\n",
       "<table border=\"1\" class=\"dataframe\">\n",
       "  <thead>\n",
       "    <tr style=\"text-align: right;\">\n",
       "      <th></th>\n",
       "      <th>security</th>\n",
       "      <th>gain</th>\n",
       "    </tr>\n",
       "  </thead>\n",
       "  <tbody>\n",
       "    <tr>\n",
       "      <th>63</th>\n",
       "      <td>500126</td>\n",
       "      <td>7.770662</td>\n",
       "    </tr>\n",
       "    <tr>\n",
       "      <th>59</th>\n",
       "      <td>500120</td>\n",
       "      <td>6.584091</td>\n",
       "    </tr>\n",
       "    <tr>\n",
       "      <th>26</th>\n",
       "      <td>500052</td>\n",
       "      <td>4.462151</td>\n",
       "    </tr>\n",
       "    <tr>\n",
       "      <th>55</th>\n",
       "      <td>500114</td>\n",
       "      <td>3.437920</td>\n",
       "    </tr>\n",
       "    <tr>\n",
       "      <th>11</th>\n",
       "      <td>500027</td>\n",
       "      <td>3.026806</td>\n",
       "    </tr>\n",
       "    <tr>\n",
       "      <th>36</th>\n",
       "      <td>500085</td>\n",
       "      <td>2.841322</td>\n",
       "    </tr>\n",
       "    <tr>\n",
       "      <th>5</th>\n",
       "      <td>500012</td>\n",
       "      <td>2.380471</td>\n",
       "    </tr>\n",
       "    <tr>\n",
       "      <th>99</th>\n",
       "      <td>500199</td>\n",
       "      <td>2.367250</td>\n",
       "    </tr>\n",
       "    <tr>\n",
       "      <th>23</th>\n",
       "      <td>500043</td>\n",
       "      <td>2.128142</td>\n",
       "    </tr>\n",
       "    <tr>\n",
       "      <th>31</th>\n",
       "      <td>500069</td>\n",
       "      <td>2.027523</td>\n",
       "    </tr>\n",
       "  </tbody>\n",
       "</table>\n",
       "</div>"
      ],
      "text/plain": [
       "   security      gain\n",
       "63   500126  7.770662\n",
       "59   500120  6.584091\n",
       "26   500052  4.462151\n",
       "55   500114  3.437920\n",
       "11   500027  3.026806\n",
       "36   500085  2.841322\n",
       "5    500012  2.380471\n",
       "99   500199  2.367250\n",
       "23   500043  2.128142\n",
       "31   500069  2.027523"
      ]
     },
     "execution_count": 3,
     "metadata": {},
     "output_type": "execute_result"
    }
   ],
   "source": [
    "df = pd.DataFrame(data.items(), columns = [\"security\", \"gain\"])\n",
    "df.sort_values(by = \"gain\", inplace = True, ascending = False)\n",
    "top10 = int(df.shape[0] * 0.1)\n",
    "df.head(top10)"
   ]
  }
 ],
 "metadata": {
  "kernelspec": {
   "display_name": "Python 3",
   "language": "python",
   "name": "python3"
  },
  "language_info": {
   "codemirror_mode": {
    "name": "ipython",
    "version": 3
   },
   "file_extension": ".py",
   "mimetype": "text/x-python",
   "name": "python",
   "nbconvert_exporter": "python",
   "pygments_lexer": "ipython3",
   "version": "3.8.5"
  }
 },
 "nbformat": 4,
 "nbformat_minor": 4
}
