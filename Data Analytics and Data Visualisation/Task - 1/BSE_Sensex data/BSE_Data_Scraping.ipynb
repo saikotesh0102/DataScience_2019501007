{
 "cells": [
  {
   "cell_type": "code",
   "execution_count": 1,
   "metadata": {},
   "outputs": [
    {
     "name": "stdout",
     "output_type": "stream",
     "text": [
      "Requirement already satisfied: selenium in c:\\anaconda\\lib\\site-packages (3.141.0)\n",
      "Requirement already satisfied: urllib3 in c:\\anaconda\\lib\\site-packages (from selenium) (1.26.2)\n",
      "Note: you may need to restart the kernel to use updated packages.\n",
      "Requirement already satisfied: webdriver_manager in c:\\anaconda\\lib\\site-packages (3.2.2)\n",
      "Requirement already satisfied: requests in c:\\anaconda\\lib\\site-packages (from webdriver_manager) (2.25.1)\n",
      "Requirement already satisfied: configparser in c:\\anaconda\\lib\\site-packages (from webdriver_manager) (5.0.1)\n",
      "Requirement already satisfied: crayons in c:\\anaconda\\lib\\site-packages (from webdriver_manager) (0.4.0)\n",
      "Requirement already satisfied: colorama in c:\\anaconda\\lib\\site-packages (from crayons->webdriver_manager) (0.4.4)\n",
      "Requirement already satisfied: chardet<5,>=3.0.2 in c:\\anaconda\\lib\\site-packages (from requests->webdriver_manager) (4.0.0)\n",
      "Requirement already satisfied: idna<3,>=2.5 in c:\\anaconda\\lib\\site-packages (from requests->webdriver_manager) (2.10)\n",
      "Requirement already satisfied: certifi>=2017.4.17 in c:\\anaconda\\lib\\site-packages (from requests->webdriver_manager) (2020.12.5)\n",
      "Requirement already satisfied: urllib3<1.27,>=1.21.1 in c:\\anaconda\\lib\\site-packages (from requests->webdriver_manager) (1.26.2)\n",
      "Note: you may need to restart the kernel to use updated packages.\n"
     ]
    }
   ],
   "source": [
    "%pip install selenium\n",
    "%pip install webdriver_manager"
   ]
  },
  {
   "cell_type": "code",
   "execution_count": 2,
   "metadata": {},
   "outputs": [],
   "source": [
    "import requests, urllib, re, io, time, csv, glob\n",
    "import gzip\n",
    "from bs4 import BeautifulSoup\n",
    "from selenium import webdriver\n",
    "from selenium.webdriver.common.keys import Keys\n",
    "from webdriver_manager.chrome import ChromeDriverManager\n",
    "import pandas as pd"
   ]
  },
  {
   "cell_type": "code",
   "execution_count": 3,
   "metadata": {},
   "outputs": [
    {
     "name": "stderr",
     "output_type": "stream",
     "text": [
      "[WDM] - Current google-chrome version is 88.0.4324\n",
      "[WDM] - Get LATEST driver version for 88.0.4324\n"
     ]
    },
    {
     "name": "stdout",
     "output_type": "stream",
     "text": [
      " \n"
     ]
    },
    {
     "name": "stderr",
     "output_type": "stream",
     "text": [
      "[WDM] - Get LATEST driver version for 88.0.4324\n",
      "[WDM] - Trying to download new driver from http://chromedriver.storage.googleapis.com/88.0.4324.96/chromedriver_win32.zip\n",
      "[WDM] - Driver has been saved in cache [C:\\Users\\Sai Koteswara Rao Ch\\.wdm\\drivers\\chromedriver\\win32\\88.0.4324.96]\n"
     ]
    }
   ],
   "source": [
    "driver = webdriver.Chrome(ChromeDriverManager().install())\n",
    "\n",
    "url = \"https://www.bseindia.com/corporates/List_Scrips.aspx\"\n",
    "driver.get(url)\n",
    "\n",
    "segment = \"Equity\"\n",
    "status = \"Active\"\n",
    "\n",
    "segment_element = driver.find_element_by_xpath('//*[@id=\"ContentPlaceHolder1_ddSegment\"]')\n",
    "segment_element.send_keys(segment)\n",
    "\n",
    "status_element = driver.find_element_by_xpath('//*[@id=\"ContentPlaceHolder1_ddlStatus\"]')\n",
    "status_element.send_keys(status)\n",
    "\n",
    "submit = driver.find_element_by_xpath('//*[@id=\"ContentPlaceHolder1_btnSubmit\"]')\n",
    "submit.send_keys(Keys.RETURN)\n",
    "\n",
    "\n",
    "download = driver.find_element_by_xpath(\n",
    "    '/html/body/div[1]/form/div[4]/div/div/div[2]/div/div/div[2]/a/i')\n",
    "download.click()\n",
    "time.sleep(10)\n",
    "driver.quit()\n",
    "\n",
    "df_equity = pd.read_csv(\"C:/Users/Sai Koteswara Rao Ch/Downloads/Equity.csv\")\n",
    "security_numbers = df_equity[\"Security Code\"].tolist()\n",
    "security_n = df_equity[\"Security Name\"].tolist()\n",
    "security_names = dict(zip(security_numbers, security_n))\n",
    "\n",
    "store_cache = {}\n",
    "\n",
    "def get_stocks(nums):\n",
    "    \n",
    "    def get_date(d,m,y):\n",
    "        month = driver.find_element_by_xpath('/html/body/div[1]/div/div/select[1]')   \n",
    "        for opt in month.find_elements_by_tag_name(\"option\"):\n",
    "            if opt.text == m:\n",
    "                opt.click()\n",
    "                break\n",
    "        year = driver.find_element_by_xpath('/html/body/div[1]/div/div/select[2]')   \n",
    "        for opt in year.find_elements_by_tag_name(\"option\"):\n",
    "            if opt.text == y:\n",
    "                opt.click()\n",
    "                break\n",
    "        days = driver.find_element_by_xpath('/html/body/div[1]/table')\n",
    "        for row in days.find_elements_by_tag_name('tr'):\n",
    "            for col in row.find_elements_by_tag_name('td'):\n",
    "                if col.text == d:\n",
    "                    row.click()\n",
    "                    return\n",
    "\n",
    "    def traverse_stock(security):\n",
    "        if security in store_cache:\n",
    "            return None\n",
    "        print(security, type(security))\n",
    "        element = driver.find_element_by_xpath('//*[@id=\"ContentPlaceHolder1_smartSearch\"]')\n",
    "        element.clear()\n",
    "        element.send_keys(security)\n",
    "        element.send_keys(Keys.ENTER)\n",
    "        time.sleep(10)\n",
    "        try:\n",
    "            response = driver.find_element_by_xpath(\"/html/body/form/div[4]/div/div/div[1]/div/div[3]/div/div/table/tbody/tr[2]/td/div/div[2]/div/div/div[2]/div[1]/table/tbody/tr/td/div/div/div/ul/li\")\n",
    "        except Exception as e:\n",
    "            pass\n",
    "        \n",
    "        if response.text == \"No Match Found\":\n",
    "            return None\n",
    "        else:\n",
    "            from_date = driver.find_element_by_xpath('//*[@id=\"ContentPlaceHolder1_txtFromDate\"]')\n",
    "            from_date.clear()\n",
    "            from_date.click()\n",
    "            get_date(\"31\",\"Dec\",\"2015\")\n",
    "            to_date = driver.find_element_by_xpath('//*[@id=\"ContentPlaceHolder1_txtToDate\"]')\n",
    "            to_date.clear()\n",
    "            to_date.click()\n",
    "            get_date(\"31\",\"Dec\",\"2020\")\n",
    "            submit = driver.find_element_by_xpath('//*[@id=\"ContentPlaceHolder1_btnSubmit\"]')\n",
    "            submit.click()\n",
    "            time.sleep(5)\n",
    "            store_stock(security)\n",
    "            store_cache[security] = True\n",
    "\n",
    "\n",
    "    def store_stock(security):\n",
    "        table = \"/html/body/form/div[4]/div/div/div[1]/div/div[4]/div/div/div[1]/div[4]/div[1]/table/tbody/tr/td/div/span/table\"\n",
    "        table = driver.find_element_by_xpath(table)\n",
    "        elements = table.find_elements_by_tag_name(\"tr\")\n",
    "        security = str(security_names[int(security)]) + \"_\" + str(security)+\"_stocks\" + \".csv\"\n",
    "        with open(security, \"w\", newline=\"\") as csvfile:\n",
    "            writer = csv.writer(csvfile)\n",
    "            heading = [\"Date\",\"Open\",\"High\",\"Low\",\"Close\",\"WAP\", \"No. of Shares\",\"No. of Trades\",\"Total Turnover\",\"Deliverable Quantity\",\"% Deli. Qty to Traded Qty\",\"Spread H-L\",\"Spread C-O\"]\n",
    "            writer.writerow(heading)\n",
    "            for row in elements[2:]:\n",
    "                writer.writerow(\n",
    "                    [data.text for data in row.find_elements_by_tag_name(\"td\")])\n",
    "                \n",
    "    print(nums)\n",
    "    chromeOptions = webdriver.ChromeOptions()\n",
    "    chromeOptions.add_argument(\"--headless\")\n",
    "    driver = webdriver.Chrome(ChromeDriverManager().install(),chrome_options=chromeOptions)\n",
    "    url = \"https://www.bseindia.com/markets/equity/EQReports/StockPrcHistori.aspx?flag=0\"\n",
    "    driver.get(url)\n",
    "    traverse_stock(str(nums))\n",
    "    driver.quit()"
   ]
  }
 ],
 "metadata": {
  "kernelspec": {
   "display_name": "Python 3",
   "language": "python",
   "name": "python3"
  },
  "language_info": {
   "codemirror_mode": {
    "name": "ipython",
    "version": 3
   },
   "file_extension": ".py",
   "mimetype": "text/x-python",
   "name": "python",
   "nbconvert_exporter": "python",
   "pygments_lexer": "ipython3",
   "version": "3.8.5"
  }
 },
 "nbformat": 4,
 "nbformat_minor": 4
}
