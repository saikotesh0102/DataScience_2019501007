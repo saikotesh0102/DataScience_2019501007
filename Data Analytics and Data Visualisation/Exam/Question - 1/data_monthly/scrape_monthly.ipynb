{
 "cells": [
  {
   "cell_type": "code",
   "execution_count": 5,
   "metadata": {},
   "outputs": [],
   "source": [
    "import requests\n",
    "import urllib\n",
    "from bs4 import BeautifulSoup\n",
    "import re\n",
    "import io\n",
    "import gzip\n",
    "import time\n",
    "import csv\n",
    "import os\n",
    "from selenium import webdriver\n",
    "from selenium.webdriver.common.keys import Keys\n",
    "from webdriver_manager.chrome import ChromeDriverManager\n",
    "import pandas as pd\n",
    "\n",
    "def scrape_monthly(sym):\n",
    "    print(sym)\n",
    "    url = \"https://finance.yahoo.com/quote/\" + sym + \"/history?period1=1451692800&period2=1609545600&interval=1mo&filter=history&frequency=1mo&includeAdjustedClose=true\"\n",
    "    response = requests.get(url)\n",
    "    bytes_io = io.BytesIO(response.content)\n",
    "    df_monthly = pd.read_csv(bytes_io, sep='\\t')\n",
    "    df_monthly.to_csv(sym + \"_monthly.csv\")"
   ]
  },
  {
   "cell_type": "code",
   "execution_count": null,
   "metadata": {},
   "outputs": [],
   "source": []
  }
 ],
 "metadata": {
  "kernelspec": {
   "display_name": "Python 3",
   "language": "python",
   "name": "python3"
  },
  "language_info": {
   "codemirror_mode": {
    "name": "ipython",
    "version": 3
   },
   "file_extension": ".py",
   "mimetype": "text/x-python",
   "name": "python",
   "nbconvert_exporter": "python",
   "pygments_lexer": "ipython3",
   "version": "3.8.5"
  }
 },
 "nbformat": 4,
 "nbformat_minor": 4
}
