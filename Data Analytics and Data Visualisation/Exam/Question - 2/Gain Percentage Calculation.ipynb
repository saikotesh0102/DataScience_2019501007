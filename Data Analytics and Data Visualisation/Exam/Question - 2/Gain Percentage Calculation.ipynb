{
 "cells": [
  {
   "cell_type": "code",
   "execution_count": 1,
   "metadata": {},
   "outputs": [
    {
     "name": "stdout",
     "output_type": "stream",
     "text": [
      "Requirement already satisfied: pdfcrowd in c:\\anaconda\\lib\\site-packages (4.12.0)\n",
      "Note: you may need to restart the kernel to use updated packages.\n"
     ]
    }
   ],
   "source": [
    "pip install pdfcrowd"
   ]
  },
  {
   "cell_type": "code",
   "execution_count": 2,
   "metadata": {},
   "outputs": [],
   "source": [
    "import pandas as pd\n",
    "import numpy as np\n",
    "import matplotlib.pyplot as plt\n",
    "from itertools import combinations\n",
    "import pdfcrowd"
   ]
  },
  {
   "cell_type": "code",
   "execution_count": 3,
   "metadata": {},
   "outputs": [
    {
     "name": "stderr",
     "output_type": "stream",
     "text": [
      "[WDM] - Current google-chrome version is 88.0.4324\n",
      "[WDM] - Get LATEST driver version for 88.0.4324\n",
      "[WDM] - Get LATEST driver version for 88.0.4324\n"
     ]
    },
    {
     "name": "stdout",
     "output_type": "stream",
     "text": [
      " \n"
     ]
    },
    {
     "name": "stderr",
     "output_type": "stream",
     "text": [
      "[WDM] - Trying to download new driver from http://chromedriver.storage.googleapis.com/88.0.4324.96/chromedriver_win32.zip\n",
      "[WDM] - Driver has been saved in cache [C:\\Users\\Sai Koteswara Rao Ch\\.wdm\\drivers\\chromedriver\\win32\\88.0.4324.96]\n"
     ]
    },
    {
     "name": "stdout",
     "output_type": "stream",
     "text": [
      "505\n"
     ]
    }
   ],
   "source": [
    "import requests\n",
    "import urllib\n",
    "from bs4 import BeautifulSoup\n",
    "import re, io, gzip, time, csv, os\n",
    "from selenium import webdriver\n",
    "from selenium.webdriver.common.keys import Keys\n",
    "from webdriver_manager.chrome import ChromeDriverManager\n",
    "from multiprocessing import Pool\n",
    "import import_ipynb\n",
    "import pandas as pd\n",
    "from ipynb.fs.full.scrape_daily import scrape_daily\n",
    "\n",
    "driver = webdriver.Chrome(ChromeDriverManager().install())\n",
    "url = \"https://en.wikipedia.org/wiki/List_of_S%26P_500_companies\"\n",
    "driver.get(url)\n",
    "\n",
    "symbols = list()\n",
    "symbols_GICC = dict()\n",
    "\n",
    "table = \"/html/body/div[3]/div[3]/div[5]/div[1]/table[1]\"\n",
    "table = driver.find_element_by_xpath(table)\n",
    "elements = table.find_elements_by_tag_name(\"tr\")[1:]\n",
    "\n",
    "for row in elements:\n",
    "    data = [data.text for data in row.find_elements_by_tag_name(\"td\")]\n",
    "    symbols.append(data[0])\n",
    "    symbols_GICC[data[0]] = data[3]\n",
    "\n",
    "print(len(symbols_GICC))"
   ]
  },
  {
   "cell_type": "code",
   "execution_count": 4,
   "metadata": {},
   "outputs": [],
   "source": [
    "top_gain_loss_daily = pd.DataFrame(columns=[\"symbol\",\"gain_loss\",\"GICS\"])\n",
    "top_gain_loss_weekly = pd.DataFrame(columns=[\"symbol\",\"gain_loss\",\"GICS\"])\n",
    "top_gain_loss_monthly = pd.DataFrame(columns=[\"symbol\",\"gain_loss\",\"GICS\"])"
   ]
  },
  {
   "cell_type": "code",
   "execution_count": 5,
   "metadata": {},
   "outputs": [],
   "source": [
    "daily_dfs = {}\n",
    "weekly_dfs = {}\n",
    "monthly_dfs = {}\n",
    "\n",
    "\n",
    "def gain_loss(sym):\n",
    "    df_daily = pd.read_csv(sym +\"_daily\" + \".csv\")\n",
    "    df_daily[\"Gain/Loss\"] = (df_daily[\"Close\"] - df_daily[\"Close\"].shift(1)) / df_daily[\"Close\"]\n",
    "    daily_dfs[sym] = df_daily\n",
    "\n",
    "    df_weekly = pd.read_csv(sym +\"_weekly\"+\".csv\")\n",
    "    df_weekly[\"Gain/Loss\"] = (df_weekly[\"Close\"] - df_weekly[\"Close\"].shift(1)) / df_weekly[\"Close\"]\n",
    "    weekly_dfs[sym] = df_weekly\n",
    "\n",
    "    df_monthly = pd.read_csv(sym + \"_monthly\" + \".csv\")\n",
    "    df_monthly[\"Gain/Loss\"] = (df_monthly[\"Close\"] - df_monthly[\"Close\"].shift(1)) / df_weekly[\"Close\"]\n",
    "    monthly_dfs[sym] = df_monthly\n",
    "    \n",
    "    daily = {\"symbol\":sym,\"gain_loss\":df_daily[\"Gain/Loss\"].sum(),\"GICS\":symbols_GICC[sym]}\n",
    "    weekly = {\"symbol\":sym,\"gain_loss\":df_weekly[\"Gain/Loss\"].sum(),\"GICS\":symbols_GICC[sym]}\n",
    "    monthly = {\"symbol\":sym,\"gain_loss\":df_monthly[\"Gain/Loss\"].sum(),\"GICS\":symbols_GICC[sym]}\n",
    "    return (daily,weekly,monthly)"
   ]
  },
  {
   "cell_type": "code",
   "execution_count": 6,
   "metadata": {},
   "outputs": [],
   "source": [
    "for n in symbols:\n",
    "    try:\n",
    "        (daily,weekly,monthly) = gain_loss(n)\n",
    "        top_gain_loss_daily = top_gain_loss_daily.append(daily, ignore_index=True)\n",
    "        top_gain_loss_weekly = top_gain_loss_weekly.append(weekly, ignore_index=True)\n",
    "        top_gain_loss_monthly = top_gain_loss_monthly.append(monthly, ignore_index=True)\n",
    "    except Exception as e :\n",
    "        pass"
   ]
  },
  {
   "cell_type": "code",
   "execution_count": 7,
   "metadata": {},
   "outputs": [
    {
     "name": "stdout",
     "output_type": "stream",
     "text": [
      "    symbol  gain_loss                    GICS\n",
      "0      MMM   0.022650             Industrials\n",
      "1      ABT   0.775921             Health Care\n",
      "2     ABBV   0.402984             Health Care\n",
      "3     ABMD   0.868232             Health Care\n",
      "4      ACN   0.782966  Information Technology\n",
      "..     ...        ...                     ...\n",
      "498    YUM   0.583798  Consumer Discretionary\n",
      "499   ZBRA   1.346326  Information Technology\n",
      "500    ZBH   0.188923             Health Care\n",
      "501   ZION   0.168076              Financials\n",
      "502    ZTS   1.091191             Health Care\n",
      "\n",
      "[503 rows x 3 columns]\n",
      "    symbol  gain_loss                    GICS\n",
      "0      MMM   0.076890             Industrials\n",
      "1      ABT   0.847760             Health Care\n",
      "2     ABBV   0.435138             Health Care\n",
      "3     ABMD   0.891735             Health Care\n",
      "4      ACN   0.828857  Information Technology\n",
      "..     ...        ...                     ...\n",
      "498    YUM   0.610208  Consumer Discretionary\n",
      "499   ZBRA   1.461277  Information Technology\n",
      "500    ZBH   0.188848             Health Care\n",
      "501   ZION   0.236732              Financials\n",
      "502    ZTS   1.119942             Health Care\n",
      "\n",
      "[503 rows x 3 columns]\n",
      "    symbol  gain_loss                    GICS\n",
      "0      MMM   0.180066             Industrials\n",
      "1      ABT   2.063769             Health Care\n",
      "2     ABBV   0.796004             Health Care\n",
      "3     ABMD   2.500622             Health Care\n",
      "4      ACN   1.193002  Information Technology\n",
      "..     ...        ...                     ...\n",
      "498    YUM   0.834389  Consumer Discretionary\n",
      "499   ZBRA   4.539827  Information Technology\n",
      "500    ZBH   0.475854             Health Care\n",
      "501   ZION   0.924054              Financials\n",
      "502    ZTS   2.255880             Health Care\n",
      "\n",
      "[503 rows x 3 columns]\n"
     ]
    }
   ],
   "source": [
    "print(top_gain_loss_daily)\n",
    "print(top_gain_loss_weekly)\n",
    "print(top_gain_loss_monthly)"
   ]
  }
 ],
 "metadata": {
  "kernelspec": {
   "display_name": "Python 3",
   "language": "python",
   "name": "python3"
  },
  "language_info": {
   "codemirror_mode": {
    "name": "ipython",
    "version": 3
   },
   "file_extension": ".py",
   "mimetype": "text/x-python",
   "name": "python",
   "nbconvert_exporter": "python",
   "pygments_lexer": "ipython3",
   "version": "3.8.5"
  }
 },
 "nbformat": 4,
 "nbformat_minor": 4
}
