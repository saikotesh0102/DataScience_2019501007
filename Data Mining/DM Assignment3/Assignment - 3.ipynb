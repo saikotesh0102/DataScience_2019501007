{
 "cells": [
  {
   "cell_type": "code",
   "execution_count": 1,
   "metadata": {},
   "outputs": [
    {
     "name": "stdout",
     "output_type": "stream",
     "text": [
      "Count of A:  3636\n",
      "Count of B:  234\n",
      "Count of AB:  1385\n",
      "Total Transactions:  14809\n",
      "--------------------------------------\n",
      "Support of A: 0.2455263690998717\n",
      "Support of B: 0.015801201971773923\n",
      "Support of AB: 0.09352420825173881\n",
      "Confidence of AB: 0.3809130913091309\n"
     ]
    }
   ],
   "source": [
    "file1 = open(\"D:/Study/MSIT/2nd Year/DataScience_2019501007/Data Mining/DM Assignment3/more_stats202_logs.txt\")\n",
    "content = list(file1.readlines())\n",
    "file1.close()\n",
    "\n",
    "count_a = 0\n",
    "count_b = 0\n",
    "count_ab = 0\n",
    "count = 0\n",
    "\n",
    "\n",
    "for i in content:\n",
    "    count += 1\n",
    "    if (\"65.57.245.11\") in i:\n",
    "        if (\"Mozilla/5.0 (X11; U; Linux i686 (x86_64); en-US; rv:1.8.1.3) Gecko/20070309 Firefox/2.0.0.3\" in i):\n",
    "            count_ab += 1\n",
    "        else:\n",
    "            count_a += 1\n",
    "    elif (\"Mozilla/5.0 (X11; U; Linux i686 (x86_64); en-US; rv:1.8.1.3) Gecko/20070309 Firefox/2.0.0.3\" in i):\n",
    "        count_b += 1\n",
    "    else:\n",
    "        continue\n",
    "\n",
    "print(\"Count of A: \", count_a)\n",
    "print(\"Count of B: \", count_b)\n",
    "print(\"Count of AB: \", count_ab)\n",
    "print(\"Total Transactions: \", count)\n",
    "\n",
    "support_a = count_a / count\n",
    "support_b = count_b / count\n",
    "support_ab = count_ab / count\n",
    "confidence_ab = support_ab / support_a\n",
    "print(\"--------------------------------------\")\n",
    "print(\"Support of A:\", support_a)\n",
    "print(\"Support of B:\", support_b)\n",
    "print(\"Support of AB:\", support_ab)\n",
    "print(\"Confidence of AB:\", confidence_ab)"
   ]
  },
  {
   "cell_type": "code",
   "execution_count": null,
   "metadata": {},
   "outputs": [],
   "source": []
  }
 ],
 "metadata": {
  "kernelspec": {
   "display_name": "Python 3",
   "language": "python",
   "name": "python3"
  },
  "language_info": {
   "codemirror_mode": {
    "name": "ipython",
    "version": 3
   },
   "file_extension": ".py",
   "mimetype": "text/x-python",
   "name": "python",
   "nbconvert_exporter": "python",
   "pygments_lexer": "ipython3",
   "version": "3.8.3"
  }
 },
 "nbformat": 4,
 "nbformat_minor": 4
}
