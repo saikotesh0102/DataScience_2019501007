{
 "cells": [
  {
   "cell_type": "code",
   "execution_count": 1,
   "metadata": {},
   "outputs": [],
   "source": [
    "import pandas as pd\n",
    "import numpy as np\n",
    "from matplotlib import pyplot as plt\n",
    "from sklearn.preprocessing import OneHotEncoder\n",
    "from sklearn.model_selection import train_test_split\n",
    "from sklearn import preprocessing, svm\n",
    "from sklearn.impute import KNNImputer\n",
    "from sklearn.decomposition import PCA\n",
    "from sklearn.linear_model import LogisticRegression\n",
    "from sklearn.svm import SVC\n",
    "from sklearn.metrics import classification_report, roc_auc_score, roc_curve, auc\n",
    "from sklearn.neural_network import MLPClassifier"
   ]
  },
  {
   "cell_type": "code",
   "execution_count": 2,
   "metadata": {},
   "outputs": [],
   "source": [
    "path = \"D:/Study/MSIT/2nd Year/DataScience_2019501007/Intro to Machine Learning/Code Camp/Logistic Regression/\""
   ]
  },
  {
   "cell_type": "code",
   "execution_count": 3,
   "metadata": {},
   "outputs": [
    {
     "name": "stdout",
     "output_type": "stream",
     "text": [
      "(7414, 22)\n"
     ]
    }
   ],
   "source": [
    "train = path + \"train.csv\"\n",
    "test = path + \"test.csv\"\n",
    "trainx_df = pd.read_csv(train)\n",
    "print(trainx_df.shape)"
   ]
  },
  {
   "cell_type": "code",
   "execution_count": 4,
   "metadata": {},
   "outputs": [
    {
     "name": "stdout",
     "output_type": "stream",
     "text": [
      "(7414,)\n"
     ]
    }
   ],
   "source": [
    "trainy_df = trainx_df['responded']\n",
    "print(trainy_df.shape)"
   ]
  },
  {
   "cell_type": "code",
   "execution_count": 5,
   "metadata": {},
   "outputs": [
    {
     "name": "stdout",
     "output_type": "stream",
     "text": [
      "(824, 22)\n"
     ]
    }
   ],
   "source": [
    "trainx_df.drop('responded', axis = 1, inplace = True)\n",
    "test_df = pd.read_csv(test)\n",
    "print(test_df.shape)"
   ]
  },
  {
   "cell_type": "code",
   "execution_count": 6,
   "metadata": {},
   "outputs": [
    {
     "name": "stdout",
     "output_type": "stream",
     "text": [
      "[['custAge', 0.2433234421364985], ['schooling', 0.29066630698678175], ['day_of_week', 0.09589964931211221]]\n"
     ]
    }
   ],
   "source": [
    "sample_size = len(trainx_df)\n",
    "columns_with_null_values = []\n",
    "for col in trainx_df.columns:\n",
    "    if trainx_df[col].isnull().sum():\n",
    "        columns_with_null_values.append([col, float(trainx_df[col].isnull().sum()) / float(sample_size)])\n",
    "print(columns_with_null_values)"
   ]
  },
  {
   "cell_type": "code",
   "execution_count": 7,
   "metadata": {},
   "outputs": [
    {
     "name": "stdout",
     "output_type": "stream",
     "text": [
      "['schooling']\n"
     ]
    }
   ],
   "source": [
    "columns_to_drop = [x for (x,y) in columns_with_null_values if y > 0.25]\n",
    "print(columns_to_drop)"
   ]
  },
  {
   "cell_type": "code",
   "execution_count": 8,
   "metadata": {},
   "outputs": [
    {
     "name": "stdout",
     "output_type": "stream",
     "text": [
      "20\n",
      "(7414, 20)\n"
     ]
    }
   ],
   "source": [
    "trainx_df.drop(columns_to_drop, axis = 1, inplace = True)\n",
    "test_df.drop(columns_to_drop, axis = 1, inplace = True)\n",
    "print(len(trainx_df.columns))\n",
    "print(trainx_df.shape)"
   ]
  },
  {
   "cell_type": "code",
   "execution_count": 9,
   "metadata": {},
   "outputs": [
    {
     "name": "stdout",
     "output_type": "stream",
     "text": [
      "9\n",
      "11\n"
     ]
    }
   ],
   "source": [
    "categorical_columns = [col for col in trainx_df.columns if trainx_df[col].dtype == object]\n",
    "print(len(categorical_columns))\n",
    "ordinal_columns = [col for col in trainx_df.columns if col not in categorical_columns]\n",
    "print(len(ordinal_columns))"
   ]
  },
  {
   "cell_type": "code",
   "execution_count": 10,
   "metadata": {},
   "outputs": [
    {
     "name": "stdout",
     "output_type": "stream",
     "text": [
      "['', 'dummy', 'dummy', 'dummy', 'dummy', 'dummy', 'dummy', 'dummy', 'dummy', '', '', '', 'dummy', '', '', '', '', '', '', '']\n"
     ]
    }
   ],
   "source": [
    "dummy_row = list()\n",
    "for col in trainx_df.columns:\n",
    "    if col in categorical_columns:\n",
    "        dummy_row.append('dummy')\n",
    "    else:\n",
    "        dummy_row.append(\"\")\n",
    "print(dummy_row)"
   ]
  },
  {
   "cell_type": "code",
   "execution_count": 11,
   "metadata": {},
   "outputs": [],
   "source": [
    "new_row = pd.DataFrame([dummy_row], columns = trainx_df.columns)\n",
    "trainx_df = pd.concat([trainx_df, new_row], axis = 0, ignore_index = True)\n",
    "test_df = pd.concat([test_df, new_row], axis = 0, ignore_index = True)\n",
    "for col in categorical_columns:\n",
    "    trainx_df[col].fillna(value = 'dummy', inplace = True)\n",
    "    test_df[col].fillna(value = 'dummy', inplace = True)"
   ]
  },
  {
   "cell_type": "code",
   "execution_count": 12,
   "metadata": {},
   "outputs": [
    {
     "name": "stdout",
     "output_type": "stream",
     "text": [
      "(7415, 20)\n",
      "(825, 21)\n",
      "56\n"
     ]
    }
   ],
   "source": [
    "enc = OneHotEncoder(drop = 'first', sparse = False)\n",
    "enc.fit(trainx_df[categorical_columns])\n",
    "trainx_enc = pd.DataFrame(enc.transform(trainx_df[categorical_columns]))\n",
    "test_enc = pd.DataFrame(enc.transform(test_df[categorical_columns]))\n",
    "print(trainx_df.shape)\n",
    "print(test_df.shape)\n",
    "trainx_enc.columns = enc.get_feature_names(categorical_columns)\n",
    "test_enc.columns = enc.get_feature_names(categorical_columns)\n",
    "trainx_df = pd.concat([trainx_df[ordinal_columns], trainx_enc], axis = 1, ignore_index = True)\n",
    "test_df = pd.concat([test_df[ordinal_columns], test_enc], axis = 1, ignore_index = True)\n",
    "print(len(trainx_df.columns))"
   ]
  },
  {
   "cell_type": "code",
   "execution_count": 13,
   "metadata": {},
   "outputs": [
    {
     "name": "stdout",
     "output_type": "stream",
     "text": [
      "(7414, 56)\n"
     ]
    }
   ],
   "source": [
    "trainx_df.drop(trainx_df.tail(1).index, inplace = True)\n",
    "test_df.drop(test_df.tail(1).index, inplace = True)\n",
    "print(trainx_df.shape)"
   ]
  },
  {
   "cell_type": "code",
   "execution_count": 14,
   "metadata": {},
   "outputs": [
    {
     "name": "stdout",
     "output_type": "stream",
     "text": [
      "0     0\n",
      "1     0\n",
      "2     0\n",
      "3     0\n",
      "4     0\n",
      "5     0\n",
      "6     0\n",
      "7     0\n",
      "8     0\n",
      "9     0\n",
      "10    0\n",
      "11    0\n",
      "12    0\n",
      "13    0\n",
      "14    0\n",
      "15    0\n",
      "16    0\n",
      "17    0\n",
      "18    0\n",
      "19    0\n",
      "20    0\n",
      "21    0\n",
      "22    0\n",
      "23    0\n",
      "24    0\n",
      "25    0\n",
      "26    0\n",
      "27    0\n",
      "28    0\n",
      "29    0\n",
      "30    0\n",
      "31    0\n",
      "32    0\n",
      "33    0\n",
      "34    0\n",
      "35    0\n",
      "36    0\n",
      "37    0\n",
      "38    0\n",
      "39    0\n",
      "40    0\n",
      "41    0\n",
      "42    0\n",
      "43    0\n",
      "44    0\n",
      "45    0\n",
      "46    0\n",
      "47    0\n",
      "48    0\n",
      "49    0\n",
      "50    0\n",
      "51    0\n",
      "52    0\n",
      "53    0\n",
      "54    0\n",
      "55    0\n",
      "dtype: int64\n"
     ]
    }
   ],
   "source": [
    "imputer = KNNImputer(n_neighbors = 5)\n",
    "imputer.fit(trainx_df)\n",
    "trainx_df_filled = imputer.transform(trainx_df)\n",
    "trainx_df_filled = pd.DataFrame(trainx_df_filled, columns = trainx_df.columns)\n",
    "print(trainx_df_filled.isnull().sum())"
   ]
  },
  {
   "cell_type": "code",
   "execution_count": 15,
   "metadata": {},
   "outputs": [],
   "source": [
    "test_df_filled = imputer.transform(test_df)\n",
    "test_df_filled = pd.DataFrame(test_df_filled, columns = test_df.columns)\n",
    "test_df_filled.reset_index(drop = True, inplace = True)"
   ]
  },
  {
   "cell_type": "code",
   "execution_count": 16,
   "metadata": {},
   "outputs": [
    {
     "name": "stdout",
     "output_type": "stream",
     "text": [
      "(7414, 56)\n",
      "(824, 56)\n"
     ]
    }
   ],
   "source": [
    "scaler = preprocessing.StandardScaler().fit(trainx_df)\n",
    "trainx_df = scaler.transform(trainx_df_filled)\n",
    "test_df = scaler.transform(test_df_filled)\n",
    "print(trainx_df.shape)\n",
    "print(test_df.shape)"
   ]
  },
  {
   "cell_type": "code",
   "execution_count": 17,
   "metadata": {},
   "outputs": [],
   "source": [
    "trainy_df = preprocessing.LabelEncoder().fit_transform(trainy_df)"
   ]
  },
  {
   "cell_type": "code",
   "execution_count": 18,
   "metadata": {},
   "outputs": [
    {
     "name": "stdout",
     "output_type": "stream",
     "text": [
      "np.cumsum(pca.explained_variance_ratio_) [0.1220191  0.17783036 0.22365869 0.26785491 0.3091537  0.34674798\n",
      " 0.38231995 0.41616126 0.44833345 0.47860954 0.50506274 0.52906905\n",
      " 0.55297241 0.57664832 0.59998993 0.62324224 0.64552744 0.66694687\n",
      " 0.68787127 0.70859252 0.72909471 0.74940209 0.76939904 0.78920048\n",
      " 0.80853157 0.82784875 0.84703002 0.86556017 0.88345626 0.90132994\n",
      " 0.91867629 0.93552568 0.9518571  0.96050129 0.96799357 0.97529045\n",
      " 0.98065759 0.98551986 0.98947341 0.99324647 0.99549352 0.99754911\n",
      " 0.99874023 0.99988117 0.99995912 0.99999989 1.         1.\n",
      " 1.         1.         1.         1.         1.         1.\n",
      " 1.         1.        ]\n"
     ]
    }
   ],
   "source": [
    "pca = PCA().fit(trainx_df)\n",
    "itemindex = np.where(np.cumsum(pca.explained_variance_ratio_) > 0.9999)\n",
    "print('np.cumsum(pca.explained_variance_ratio_)',      np.cumsum(pca.explained_variance_ratio_))"
   ]
  },
  {
   "cell_type": "code",
   "execution_count": 19,
   "metadata": {},
   "outputs": [
    {
     "data": {
      "image/png": "[encoded data removed]",
      "text/plain": [
       "<Figure size 432x288 with 1 Axes>"
      ]
     },
     "metadata": {
      "needs_background": "light"
     },
     "output_type": "display_data"
    }
   ],
   "source": [
    "#Plotting the Cumulative Summation of the Explained Variance\n",
    "plt.figure(np.cumsum(pca.explained_variance_ratio_)[0])\n",
    "plt.plot(np.cumsum(pca.explained_variance_ratio_))\n",
    "plt.xlabel('Number of Components')\n",
    "plt.ylabel('Variance (%)') #for each component\n",
    "plt.title('Principal Components Explained Variance')\n",
    "plt.show()"
   ]
  },
  {
   "cell_type": "code",
   "execution_count": 20,
   "metadata": {},
   "outputs": [],
   "source": [
    "pca_std = PCA(n_components = itemindex[0][0]).fit(trainx_df)\n",
    "trainx_df = pca_std.transform(trainx_df)\n",
    "test_df = pca_std.transform(test_df)"
   ]
  },
  {
   "cell_type": "code",
   "execution_count": 21,
   "metadata": {},
   "outputs": [
    {
     "name": "stdout",
     "output_type": "stream",
     "text": [
      "Results for Logistic Regression\n"
     ]
    }
   ],
   "source": [
    "X_train, X_test, y_train, y_test = train_test_split(trainx_df, trainy_df, test_size = 0.3, random_state = 42)\n",
    "\n",
    "print(\"Results for Logistic Regression\")"
   ]
  },
  {
   "cell_type": "code",
   "execution_count": 22,
   "metadata": {},
   "outputs": [
    {
     "data": {
      "text/plain": [
       "LogisticRegression(C=1e-05, class_weight='balanced', max_iter=1000000)"
      ]
     },
     "execution_count": 22,
     "metadata": {},
     "output_type": "execute_result"
    }
   ],
   "source": [
    "logreg = LogisticRegression(class_weight = \"balanced\", C = 0.00001, max_iter = 1000000)\n",
    "logreg.fit(X_train, y_train)"
   ]
  },
  {
   "cell_type": "code",
   "execution_count": 23,
   "metadata": {},
   "outputs": [
    {
     "name": "stdout",
     "output_type": "stream",
     "text": [
      "0.7801199448312003\n"
     ]
    }
   ],
   "source": [
    "yprobs = logreg.predict_log_proba(X_test)\n",
    "yprobs = yprobs[ : , 1]\n",
    "ras = roc_auc_score(y_test, yprobs,average = 'weighted')\n",
    "print(ras)\n",
    "yhat = logreg.predict(X_test)"
   ]
  },
  {
   "cell_type": "code",
   "execution_count": 24,
   "metadata": {},
   "outputs": [
    {
     "name": "stdout",
     "output_type": "stream",
     "text": [
      "              precision    recall  f1-score   support\n",
      "\n",
      "           0       0.93      0.85      0.89      1942\n",
      "           1       0.37      0.59      0.45       283\n",
      "\n",
      "    accuracy                           0.82      2225\n",
      "   macro avg       0.65      0.72      0.67      2225\n",
      "weighted avg       0.86      0.82      0.84      2225\n",
      "\n",
      "0.3684210526315789 0.5936395759717314\n"
     ]
    }
   ],
   "source": [
    "TP, TN, FP, FN = 0, 0, 0, 0\n",
    "for i in range(len(yhat)):\n",
    "    if yhat[i] == 0:\n",
    "        if y_test[i] == 0:\n",
    "            TN += 1\n",
    "        else:\n",
    "            FN += 1\n",
    "    else:\n",
    "        if y_test[i] == 1:\n",
    "            TP += 1\n",
    "        else:\n",
    "            FP += 1\n",
    "print(classification_report(y_test, yhat))\n",
    "print(classification_report(y_test, yhat, output_dict = True)['1']['precision'], classification_report(y_test, yhat, output_dict = True)['1']['recall'])\n",
    "fpr, tpr, threshold = roc_curve(y_test, yprobs)\n",
    "roc_auc = auc(fpr, tpr)"
   ]
  },
  {
   "cell_type": "code",
   "execution_count": 25,
   "metadata": {},
   "outputs": [
    {
     "data": {
      "image/png": "[encoded data removed]",
      "text/plain": [
       "<Figure size 432x288 with 1 Axes>"
      ]
     },
     "metadata": {
      "needs_background": "light"
     },
     "output_type": "display_data"
    }
   ],
   "source": [
    "plt.title('Receiver Operating Characteristic')\n",
    "plt.plot(fpr, tpr, 'b', label = 'AUC = %0.2f' % roc_auc)\n",
    "plt.legend(loc = 'lower right')\n",
    "plt.plot([0, 1], [0, 1],'r--')\n",
    "plt.xlim([0, 1])\n",
    "plt.ylim([0, 1])\n",
    "plt.ylabel('True Positive Rate')\n",
    "plt.xlabel('False Positive Rate')\n",
    "plt.show()"
   ]
  },
  {
   "cell_type": "code",
   "execution_count": 26,
   "metadata": {},
   "outputs": [
    {
     "name": "stdout",
     "output_type": "stream",
     "text": [
      "[168, 1654, 288, 115, 0.5936395759717314, 0.8516992790937178]\n",
      "Results for SVM Classifier\n"
     ]
    },
    {
     "data": {
      "text/plain": [
       "SVC(C=0.5, degree=2, kernel='poly')"
      ]
     },
     "execution_count": 26,
     "metadata": {},
     "output_type": "execute_result"
    }
   ],
   "source": [
    "print([TP, TN, FP, FN, TP / (TP + FN), TN / (TN + FP)])\n",
    "print(\"Results for SVM Classifier\")\n",
    "\n",
    "svcmodel = SVC(C = 0.5, degree = 2, kernel = 'poly')\n",
    "svcmodel.fit(X_train, y_train)"
   ]
  },
  {
   "cell_type": "code",
   "execution_count": 27,
   "metadata": {},
   "outputs": [
    {
     "name": "stdout",
     "output_type": "stream",
     "text": [
      "              precision    recall  f1-score   support\n",
      "\n",
      "           0       0.90      0.99      0.94      1942\n",
      "           1       0.68      0.21      0.32       283\n",
      "\n",
      "    accuracy                           0.89      2225\n",
      "   macro avg       0.79      0.60      0.63      2225\n",
      "weighted avg       0.87      0.89      0.86      2225\n",
      "\n",
      "0.6781609195402298 0.20848056537102475\n",
      "[59, 1914, 28, 224, 0.20848056537102475, 0.9855818743563337]\n"
     ]
    }
   ],
   "source": [
    "yhat = svcmodel.predict(X_test)\n",
    "#pd.DataFrame(yhat).to_csv(model)\n",
    "TP, TN, FP, FN = 0, 0, 0, 0\n",
    "for i in range(len(yhat)):\n",
    "    if yhat[i] == 0:\n",
    "        if y_test[i] == 0:\n",
    "            TN += 1\n",
    "        else:\n",
    "            FN += 1\n",
    "    else:\n",
    "        if y_test[i] == 1:\n",
    "            TP += 1\n",
    "        else:\n",
    "            FP += 1\n",
    "print(classification_report(y_test, yhat))\n",
    "print(classification_report(y_test, yhat, output_dict = True)['1']['precision'], classification_report(y_test, yhat, output_dict = True)['1']['recall'])\n",
    "print([TP, TN, FP, FN, TP /(TP + FN), TN /(TN + FP)])"
   ]
  },
  {
   "cell_type": "code",
   "execution_count": 28,
   "metadata": {},
   "outputs": [
    {
     "name": "stdout",
     "output_type": "stream",
     "text": [
      "Results for Back Propagation Classifier\n"
     ]
    },
    {
     "data": {
      "text/plain": [
       "MLPClassifier(alpha=0.01, hidden_layer_sizes=(7,), max_iter=10000,\n",
       "              random_state=1, solver='lbfgs')"
      ]
     },
     "execution_count": 28,
     "metadata": {},
     "output_type": "execute_result"
    }
   ],
   "source": [
    "print(\"Results for Back Propagation Classifier\")\n",
    "nn_bp_model = MLPClassifier(solver = 'lbfgs', alpha = 0.01, hidden_layer_sizes = (7, ), random_state = 1, max_iter = 10000)\n",
    "nn_bp_model.fit(X_train, y_train)"
   ]
  },
  {
   "cell_type": "code",
   "execution_count": 29,
   "metadata": {},
   "outputs": [
    {
     "name": "stdout",
     "output_type": "stream",
     "text": [
      "0.730003129628484\n",
      "              precision    recall  f1-score   support\n",
      "\n",
      "           0       0.90      0.97      0.93      1942\n",
      "           1       0.55      0.29      0.38       283\n",
      "\n",
      "    accuracy                           0.88      2225\n",
      "   macro avg       0.73      0.63      0.65      2225\n",
      "weighted avg       0.86      0.88      0.86      2225\n",
      "\n",
      "0.5472972972972973 0.2862190812720848\n"
     ]
    }
   ],
   "source": [
    "yprobs = nn_bp_model.predict_log_proba(X_test)\n",
    "yprobs = yprobs[ : , 1]\n",
    "ras = roc_auc_score(y_test, yprobs, average = 'weighted')\n",
    "print(ras)\n",
    "yhat = nn_bp_model.predict(X_test)\n",
    "#pd.DataFrame(yhat).to_csv(model)\n",
    "TP, TN, FP, FN = 0, 0, 0, 0\n",
    "for i in range(len(yhat)):\n",
    "    if yhat[i] == 0:\n",
    "        if y_test[i] == 0:\n",
    "            TN += 1\n",
    "        else:\n",
    "            FN += 1\n",
    "    else:\n",
    "        if y_test[i] == 1:\n",
    "            TP += 1\n",
    "        else:\n",
    "            FP += 1\n",
    "print(classification_report(y_test, yhat))\n",
    "print(classification_report(y_test, yhat, output_dict = True)['1']['precision'], classification_report(y_test, yhat, output_dict = True)['1']['recall'])\n",
    "fpr, tpr, threshold = roc_curve(y_test, yprobs)\n",
    "roc_auc = auc(fpr, tpr)"
   ]
  },
  {
   "cell_type": "code",
   "execution_count": 30,
   "metadata": {},
   "outputs": [
    {
     "data": {
      "image/png": "[encoded data removed]",
      "text/plain": [
       "<Figure size 432x288 with 1 Axes>"
      ]
     },
     "metadata": {
      "needs_background": "light"
     },
     "output_type": "display_data"
    },
    {
     "name": "stdout",
     "output_type": "stream",
     "text": [
      "[81, 1875, 67, 202, 0.2862190812720848, 0.9654994850669413]\n"
     ]
    }
   ],
   "source": [
    "plt.title('Receiver Operating Characteristic')\n",
    "plt.plot(fpr, tpr, 'b', label = 'AUC = %0.2f' % roc_auc)\n",
    "plt.legend(loc = 'lower right')\n",
    "plt.plot([0, 1], [0, 1],'r--')\n",
    "plt.xlim([0, 1])\n",
    "plt.ylim([0, 1])\n",
    "plt.ylabel('True Positive Rate')\n",
    "plt.xlabel('False Positive Rate')\n",
    "plt.show()\n",
    "print([TP, TN, FP, FN, TP / (TP + FN), TN / (TN + FP)])"
   ]
  },
  {
   "cell_type": "code",
   "execution_count": null,
   "metadata": {},
   "outputs": [],
   "source": []
  }
 ],
 "metadata": {
  "kernelspec": {
   "display_name": "Python 3",
   "language": "python",
   "name": "python3"
  },
  "language_info": {
   "codemirror_mode": {
    "name": "ipython",
    "version": 3
   },
   "file_extension": ".py",
   "mimetype": "text/x-python",
   "name": "python",
   "nbconvert_exporter": "python",
   "pygments_lexer": "ipython3",
   "version": "3.8.3"
  }
 },
 "nbformat": 4,
 "nbformat_minor": 4
}
