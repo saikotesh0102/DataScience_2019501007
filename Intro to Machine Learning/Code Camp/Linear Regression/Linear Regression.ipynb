{
 "cells": [
  {
   "cell_type": "code",
   "execution_count": 1,
   "metadata": {},
   "outputs": [],
   "source": [
    "import pandas as pd\n",
    "import numpy as np\n",
    "from matplotlib import pyplot as plt\n",
    "from sklearn.preprocessing import OneHotEncoder\n",
    "from sklearn.model_selection import train_test_split\n",
    "from sklearn import preprocessing\n",
    "from sklearn.impute import KNNImputer\n",
    "from sklearn.linear_model import LinearRegression, Ridge\n",
    "from sklearn.metrics import mean_squared_error as mserr"
   ]
  },
  {
   "cell_type": "code",
   "execution_count": 2,
   "metadata": {},
   "outputs": [],
   "source": [
    "path = \"D:/Study/MSIT/2nd Year/DataScience_2019501007/Intro to Machine Learning/Code Camp/Linear Regression/\""
   ]
  },
  {
   "cell_type": "code",
   "execution_count": 3,
   "metadata": {},
   "outputs": [
    {
     "name": "stdout",
     "output_type": "stream",
     "text": [
      "(1460, 80)\n"
     ]
    }
   ],
   "source": [
    "train = path + \"train.csv\"\n",
    "test = path + \"test.csv\"\n",
    "trainx_df = pd.read_csv(train, index_col = 'Id')\n",
    "print(trainx_df.shape)"
   ]
  },
  {
   "cell_type": "code",
   "execution_count": 4,
   "metadata": {},
   "outputs": [
    {
     "name": "stdout",
     "output_type": "stream",
     "text": [
      "(1460,)\n"
     ]
    }
   ],
   "source": [
    "trainy_df = trainx_df['SalePrice']\n",
    "print(trainy_df.shape)"
   ]
  },
  {
   "cell_type": "code",
   "execution_count": 5,
   "metadata": {},
   "outputs": [
    {
     "name": "stdout",
     "output_type": "stream",
     "text": [
      "(1459, 79)\n"
     ]
    }
   ],
   "source": [
    "trainx_df.drop('SalePrice', axis = 1, inplace = True)\n",
    "test_df = pd.read_csv(test, index_col = 'Id')\n",
    "print(test_df.shape)"
   ]
  },
  {
   "cell_type": "code",
   "execution_count": 6,
   "metadata": {
    "scrolled": true
   },
   "outputs": [
    {
     "name": "stdout",
     "output_type": "stream",
     "text": [
      "[['LotFrontage', 0.1773972602739726], ['Alley', 0.9376712328767123], ['MasVnrType', 0.005479452054794521], ['MasVnrArea', 0.005479452054794521], ['BsmtQual', 0.025342465753424658], ['BsmtCond', 0.025342465753424658], ['BsmtExposure', 0.026027397260273973], ['BsmtFinType1', 0.025342465753424658], ['BsmtFinType2', 0.026027397260273973], ['Electrical', 0.0006849315068493151], ['FireplaceQu', 0.4726027397260274], ['GarageType', 0.05547945205479452], ['GarageYrBlt', 0.05547945205479452], ['GarageFinish', 0.05547945205479452], ['GarageQual', 0.05547945205479452], ['GarageCond', 0.05547945205479452], ['PoolQC', 0.9952054794520548], ['Fence', 0.8075342465753425], ['MiscFeature', 0.963013698630137]]\n"
     ]
    }
   ],
   "source": [
    "sample_size = len(trainx_df)\n",
    "columns_with_null_values = []\n",
    "for col in trainx_df.columns:\n",
    "    if trainx_df[col].isnull().sum():\n",
    "        columns_with_null_values.append([col, float(trainx_df[col].isnull().sum()) / float(sample_size)])\n",
    "print(columns_with_null_values)"
   ]
  },
  {
   "cell_type": "code",
   "execution_count": 7,
   "metadata": {},
   "outputs": [
    {
     "name": "stdout",
     "output_type": "stream",
     "text": [
      "['Alley', 'FireplaceQu', 'PoolQC', 'Fence', 'MiscFeature']\n"
     ]
    }
   ],
   "source": [
    "columns_to_drop = [x for (x,y) in columns_with_null_values if y > 0.3]\n",
    "print(columns_to_drop)"
   ]
  },
  {
   "cell_type": "code",
   "execution_count": 8,
   "metadata": {},
   "outputs": [
    {
     "name": "stdout",
     "output_type": "stream",
     "text": [
      "74\n",
      "(1460, 74)\n"
     ]
    }
   ],
   "source": [
    "trainx_df.drop(columns_to_drop, axis = 1, inplace = True)\n",
    "test_df.drop(columns_to_drop, axis = 1, inplace = True)\n",
    "print(len(trainx_df.columns))\n",
    "print(trainx_df.shape)"
   ]
  },
  {
   "cell_type": "code",
   "execution_count": 9,
   "metadata": {},
   "outputs": [],
   "source": [
    "categorical_columns = [col for col in trainx_df.columns if trainx_df[col].dtype == object]\n",
    "# categorical_columns.append('MSSubClass')\n",
    "# print(len(categorical_columns))\n",
    "ordinal_columns = [col for col in trainx_df.columns if col not in categorical_columns]\n",
    "# print(len(ordinal_columns))"
   ]
  },
  {
   "cell_type": "code",
   "execution_count": 10,
   "metadata": {},
   "outputs": [
    {
     "name": "stdout",
     "output_type": "stream",
     "text": [
      "['', 'dummy', '', '', 'dummy', 'dummy', 'dummy', 'dummy', 'dummy', 'dummy', 'dummy', 'dummy', 'dummy', 'dummy', 'dummy', '', '', '', '', 'dummy', 'dummy', 'dummy', 'dummy', 'dummy', '', 'dummy', 'dummy', 'dummy', 'dummy', 'dummy', 'dummy', 'dummy', '', 'dummy', '', '', '', 'dummy', 'dummy', 'dummy', 'dummy', '', '', '', '', '', '', '', '', '', '', 'dummy', '', 'dummy', '', 'dummy', '', 'dummy', '', '', 'dummy', 'dummy', 'dummy', '', '', '', '', '', '', '', '', '', 'dummy', 'dummy']\n"
     ]
    }
   ],
   "source": [
    "dummy_row = list()\n",
    "for col in trainx_df.columns:\n",
    "    if col in categorical_columns:\n",
    "        dummy_row.append('dummy')\n",
    "    else:\n",
    "        dummy_row.append(\"\")\n",
    "print(dummy_row)"
   ]
  },
  {
   "cell_type": "code",
   "execution_count": 11,
   "metadata": {},
   "outputs": [],
   "source": [
    "new_row = pd.DataFrame([dummy_row], columns = trainx_df.columns)\n",
    "trainx_df = pd.concat([trainx_df, new_row], axis = 0, ignore_index = True)\n",
    "test_df = pd.concat([test_df, new_row], axis = 0, ignore_index = True)\n",
    "for col in categorical_columns:\n",
    "    trainx_df[col].fillna(value = 'dummy', inplace = True)\n",
    "    test_df[col].fillna(value = 'dummy', inplace = True)"
   ]
  },
  {
   "cell_type": "code",
   "execution_count": 12,
   "metadata": {},
   "outputs": [
    {
     "name": "stdout",
     "output_type": "stream",
     "text": [
      "(1461, 74)\n",
      "(1460, 74)\n",
      "270\n"
     ]
    }
   ],
   "source": [
    "enc = OneHotEncoder(drop = 'first', sparse = False)\n",
    "enc.fit(trainx_df[categorical_columns])\n",
    "trainx_enc = pd.DataFrame(enc.transform(trainx_df[categorical_columns]))\n",
    "test_enc = pd.DataFrame(enc.transform(test_df[categorical_columns]))\n",
    "print(trainx_df.shape)\n",
    "print(test_df.shape)\n",
    "trainx_enc.columns = enc.get_feature_names(categorical_columns)\n",
    "test_enc.columns = enc.get_feature_names(categorical_columns)\n",
    "trainx_df = pd.concat([trainx_df[ordinal_columns], trainx_enc], axis = 1, ignore_index = True)\n",
    "test_df = pd.concat([test_df[ordinal_columns], test_enc], axis = 1, ignore_index = True)\n",
    "print(len(trainx_df.columns))"
   ]
  },
  {
   "cell_type": "code",
   "execution_count": 13,
   "metadata": {},
   "outputs": [
    {
     "name": "stdout",
     "output_type": "stream",
     "text": [
      "(1460, 270)\n"
     ]
    }
   ],
   "source": [
    "trainx_df.drop(trainx_df.tail(1).index, inplace = True)\n",
    "test_df.drop(test_df.tail(1).index, inplace = True)\n",
    "print(trainx_df.shape)"
   ]
  },
  {
   "cell_type": "code",
   "execution_count": 14,
   "metadata": {},
   "outputs": [
    {
     "name": "stdout",
     "output_type": "stream",
     "text": [
      "0      0\n",
      "1      0\n",
      "2      0\n",
      "3      0\n",
      "4      0\n",
      "      ..\n",
      "265    0\n",
      "266    0\n",
      "267    0\n",
      "268    0\n",
      "269    0\n",
      "Length: 270, dtype: int64\n"
     ]
    }
   ],
   "source": [
    "imputer = KNNImputer(n_neighbors = 2)\n",
    "imputer.fit(trainx_df)\n",
    "trainx_df_filled = imputer.transform(trainx_df)\n",
    "trainx_df_filled = pd.DataFrame(trainx_df_filled, columns = trainx_df.columns)\n",
    "print(trainx_df_filled.isnull().sum())"
   ]
  },
  {
   "cell_type": "code",
   "execution_count": 15,
   "metadata": {},
   "outputs": [],
   "source": [
    "test_df_filled = imputer.transform(test_df)\n",
    "test_df_filled = pd.DataFrame(test_df_filled, columns = test_df.columns)\n",
    "test_df_filled.reset_index(drop = True, inplace = True)"
   ]
  },
  {
   "cell_type": "code",
   "execution_count": 16,
   "metadata": {},
   "outputs": [
    {
     "name": "stdout",
     "output_type": "stream",
     "text": [
      "(1460, 270)\n",
      "(1459, 270)\n"
     ]
    }
   ],
   "source": [
    "scaler = preprocessing.StandardScaler().fit(trainx_df)\n",
    "trainx_df = scaler.transform(trainx_df_filled)\n",
    "test_df = scaler.transform(test_df_filled)\n",
    "print(trainx_df.shape)\n",
    "print(test_df.shape)"
   ]
  },
  {
   "cell_type": "code",
   "execution_count": 17,
   "metadata": {},
   "outputs": [],
   "source": [
    "X_train, X_test, Y_train, Y_test = train_test_split(trainx_df, trainy_df.values.ravel(), test_size = 0.3, random_state = 42)"
   ]
  },
  {
   "cell_type": "code",
   "execution_count": 24,
   "metadata": {},
   "outputs": [
    {
     "name": "stdout",
     "output_type": "stream",
     "text": [
      "[2.0, 18.0, 34.0, 50.0, 66.0, 82.0, 98.0, 114.0, 130.0, 146.0] \n",
      " [0.9329195273, 0.9218293603, 0.915995658, 0.9122221847, 0.9093837701, 0.9070589664, 0.9050541263, 0.9032664411, 0.9016354191, 0.9001226713] \n",
      " [0.7800015394, 0.8661121273, 0.8755359306, 0.8778244769, 0.878436371, 0.8784822941, 0.8782923034, 0.8779880197, 0.8776210688, 0.877215739] \n",
      " [403728887.5133, 470475894.3885, 505586471.7821, 528297406.0281, 545380618.571, 559372624.9062, 571438906.416, 582198224.5001, 592014653.4161, 601119240.0789] \n",
      " [1535169885.1253, 934282129.0206, 868521946.1352, 852552255.5854, 848282401.114, 847961945.727, 849287718.3872, 851411038.1637, 853971656.4551, 856800085.7858]\n"
     ]
    },
    {
     "data": {
      "image/png": "[encoded data removed]",
      "text/plain": [
       "<Figure size 432x288 with 1 Axes>"
      ]
     },
     "metadata": {
      "needs_background": "light"
     },
     "output_type": "display_data"
    },
    {
     "data": {
      "image/png": "[encoded data removed]",
      "text/plain": [
       "<Figure size 432x288 with 1 Axes>"
      ]
     },
     "metadata": {
      "needs_background": "light"
     },
     "output_type": "display_data"
    }
   ],
   "source": [
    "LRModel = LinearRegression().fit(X_train, Y_train)\n",
    "\n",
    "\n",
    "score_train = []\n",
    "score_test = []\n",
    "mse_train = []\n",
    "mse_test = []\n",
    "alpha = []\n",
    "alpha_start = 2\n",
    "alpha_end = 146\n",
    "jumps = 10\n",
    "\n",
    "for sigma in np.linspace(alpha_start, alpha_end, jumps):\n",
    "    alpha.append(sigma)\n",
    "    # Ridge_model=getRidgeRegressionModel(X_train, y_train,reg_par=sigma)\n",
    "    Ridge_model = Ridge(alpha = sigma,tol = 0.01).fit(X_train, Y_train)\n",
    "    score_train.append(round(Ridge_model.score(X_train, Y_train), 10))\n",
    "    score_test.append(round(Ridge_model.score(X_test, Y_test), 10))\n",
    "    mse_train.append(round(mserr(Y_train,Ridge_model.predict(X_train)), 4))\n",
    "    mse_test.append(round(mserr(Y_test,Ridge_model.predict(X_test)), 4))\n",
    "print(alpha,'\\n', score_train, '\\n', score_test,'\\n', mse_train, '\\n', mse_test) \n",
    "\n",
    "Ridge_model = Ridge(alpha = 146,tol = 0.01).fit(X_train, Y_train)\n",
    "testpred = pd.DataFrame(Ridge_model.predict(test_df))\n",
    "testpred.to_csv(\"test_pred.csv\")\n",
    "\n",
    "plt.figure(1)\n",
    "plt.plot(alpha, score_train, 'g--',label = \"train_score\")\n",
    "plt.plot(alpha, score_test, 'r-o',label = \"test_score\")\n",
    "plt.xlabel = 'Alpha'\n",
    "plt.legend()\n",
    "plt.figure(2)\n",
    "plt.plot(alpha, mse_train, 'y--',label = \"train_mse\")\n",
    "plt.plot(alpha, mse_test, 'c-o',label = \"test_mse\")\n",
    "plt.xlabel = 'Alpha'\n",
    "plt.legend()\n",
    "plt.show()"
   ]
  },
  {
   "cell_type": "code",
   "execution_count": 21,
   "metadata": {},
   "outputs": [],
   "source": [
    "def predictTestx(Model, testx_df):\n",
    "    testpred = pd.DataFrame(Model.predict(testx_df))\n",
    "    testpred.to_csv(\"test_pred.csv\")"
   ]
  },
  {
   "cell_type": "code",
   "execution_count": null,
   "metadata": {},
   "outputs": [],
   "source": []
  }
 ],
 "metadata": {
  "kernelspec": {
   "display_name": "Python 3",
   "language": "python",
   "name": "python3"
  },
  "language_info": {
   "codemirror_mode": {
    "name": "ipython",
    "version": 3
   },
   "file_extension": ".py",
   "mimetype": "text/x-python",
   "name": "python",
   "nbconvert_exporter": "python",
   "pygments_lexer": "ipython3",
   "version": "3.8.3"
  }
 },
 "nbformat": 4,
 "nbformat_minor": 4
}
